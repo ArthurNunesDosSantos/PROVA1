{
 "cells": [
  {
   "cell_type": "code",
   "execution_count": 6,
   "metadata": {},
   "outputs": [
    {
     "name": "stdout",
     "output_type": "stream",
     "text": [
      "A média aritmética entre os dois maiores valores 30.0 e 20.0 é igual a: 25.0\n"
     ]
    }
   ],
   "source": [
    "maior_valor = 0\n",
    "segundo_maior_valor = 0\n",
    "v1, v2, v3 = 10.5,-1,-1\n",
    "while v1 // 1 != v1 or v1 < 0: \n",
    "    v1 = float(input(\"Digite o primeiro valor inteiro e positivo: \"))\n",
    "while v2 // 1 != v2 or v2 < 0:\n",
    "     v2 = float(input(\"Digite o segundo valor inteiro e positivo: \"))\n",
    "if v1 > v2:\n",
    "    maior_valor = v1\n",
    "    segundo_maior_valor = v2\n",
    "else:\n",
    "    maior_valor = v2\n",
    "    segundo_maior_valor = v1\n",
    "while v3 // 1 != v3 or v3 < 0:\n",
    "    v3 = float(input(\"Digite o ultimo valor inteiro e positivo: \"))\n",
    "\n",
    "if v3 > maior_valor:\n",
    "    segundo_maior_valor = maior_valor\n",
    "    maior_valor = v3\n",
    "    \n",
    "elif v3 > segundo_maior_valor:\n",
    "    segundo_maior_valor = v3\n",
    "else:\n",
    "    pass\n",
    "media = (maior_valor + segundo_maior_valor) / 2\n",
    "\n",
    "print(f\"A média aritmética entre os dois maiores valores {maior_valor} e {segundo_maior_valor} é igual a: {media}\")"
   ]
  }
 ],
 "metadata": {
  "kernelspec": {
   "display_name": "base",
   "language": "python",
   "name": "python3"
  },
  "language_info": {
   "codemirror_mode": {
    "name": "ipython",
    "version": 3
   },
   "file_extension": ".py",
   "mimetype": "text/x-python",
   "name": "python",
   "nbconvert_exporter": "python",
   "pygments_lexer": "ipython3",
   "version": "3.11.7"
  }
 },
 "nbformat": 4,
 "nbformat_minor": 2
}
